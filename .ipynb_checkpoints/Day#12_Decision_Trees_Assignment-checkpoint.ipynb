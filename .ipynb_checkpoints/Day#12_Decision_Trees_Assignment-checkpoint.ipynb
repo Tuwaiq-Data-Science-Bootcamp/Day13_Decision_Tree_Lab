{
 "cells": [
  {
   "cell_type": "markdown",
   "id": "d985f77b",
   "metadata": {},
   "source": [
    "|  Column name  |  Description  |\n",
    "| ----- | ------- |\n",
    "| Num_posts        | Number of total posts that the user has ever posted   |\n",
    "| Num_following    | Number of following                                   |\n",
    "| Num_followers    | Number of followers                                   |\n",
    "| Biography_length | Length (number of characters) of the user's biography |\n",
    "| Picture_availability | Value 0 if the user has no profile picture, or 1 if has |\n",
    "| Link_availability| Value 0 if the user has no external URL, or 1 if has |\n",
    "| Average_caption_length | The average number of character of captions in media |\n",
    "| Caption_zero     | Percentage (0.0 to 1.0) of captions that has almost zero (<=3) length |\n",
    "| Non_image_percentage | Percentage (0.0 to 1.0) of non-image media. There are three types of media on an Instagram post, i.e. image, video, carousel\n",
    "| Engagement_rate_like | Engagement rate (ER) is commonly defined as (num likes) divide by (num media) divide by (num followers)\n",
    "| Engagement_rate_comment | Similar to ER like, but it is for comments |\n",
    "| Location_tag_percentage | Percentage (0.0 to 1.0) of posts tagged with location |\n",
    "| Average_hashtag_count   | Average number of hashtags used in a post |\n",
    "| Promotional_keywords | Average use of promotional keywords in hashtag, i.e. regrann, contest, repost, giveaway, mention, share, give away, quiz |\n",
    "| Followers_keywords | Average use of followers hunter keywords in hashtag, i.e. follow, like, folback, follback, f4f|\n",
    "| Cosine_similarity  | Average cosine similarity of between all pair of two posts a user has |\n",
    "| Post_interval      | Average interval between posts (in hours) |\n",
    "| real_fake          | r (real/authentic user), f (fake user/bought followers) |"
   ]
  },
  {
   "cell_type": "markdown",
   "id": "0589474a",
   "metadata": {},
   "source": [
    "# Q1: Import labraries"
   ]
  },
  {
   "cell_type": "code",
   "execution_count": 12,
   "id": "13f00a6a",
   "metadata": {},
   "outputs": [],
   "source": [
    "import warnings\n",
    "warnings.filterwarnings(\"ignore\")\n",
    "import pandas as pd\n",
    "import numpy as np\n",
    "import matplotlib.pyplot as plt\n",
    "import seaborn as sns\n",
    "%matplotlib inline"
   ]
  },
  {
   "cell_type": "markdown",
   "id": "fc2557da",
   "metadata": {},
   "source": [
    "# Q2: Read instagram_users.csv file"
   ]
  },
  {
   "cell_type": "code",
   "execution_count": 13,
   "id": "f7c3f583",
   "metadata": {},
   "outputs": [],
   "source": [
    "df = pd.read_csv('instagram_users.csv')"
   ]
  },
  {
   "cell_type": "markdown",
   "id": "2fd48ba4",
   "metadata": {},
   "source": [
    "# Q3: Split tha dataset into training and testing"
   ]
  },
  {
   "cell_type": "code",
   "execution_count": 14,
   "id": "ab0b70dc",
   "metadata": {},
   "outputs": [],
   "source": [
    "from sklearn.model_selection import train_test_split"
   ]
  },
  {
   "cell_type": "code",
   "execution_count": 16,
   "id": "870e79a1",
   "metadata": {},
   "outputs": [],
   "source": [
    "X = df.drop('real_fake',axis=1)\n",
    "y = df['real_fake']"
   ]
  },
  {
   "cell_type": "code",
   "execution_count": 17,
   "id": "ff1fbafa",
   "metadata": {},
   "outputs": [],
   "source": [
    "X_train, X_test, y_train, y_test = train_test_split(X, y, test_size=0.30)"
   ]
  },
  {
   "cell_type": "markdown",
   "id": "6db25de6",
   "metadata": {},
   "source": [
    "# Q4: Build three machine models "
   ]
  },
  {
   "cell_type": "code",
   "execution_count": 19,
   "id": "1addc954",
   "metadata": {},
   "outputs": [],
   "source": [
    "from sklearn.tree import DecisionTreeClassifier\n",
    "dtree = DecisionTreeClassifier()"
   ]
  },
  {
   "cell_type": "markdown",
   "id": "2a9943d1",
   "metadata": {},
   "source": [
    "## Q4.1: The first machine model\n",
    "- Print the model's name.\n",
    "- Print the model's accuracy.\n",
    "- Print the model's confusion matrix."
   ]
  },
  {
   "cell_type": "code",
   "execution_count": 21,
   "id": "0e8f4d29",
   "metadata": {},
   "outputs": [
    {
     "data": {
      "text/plain": [
       "DecisionTreeClassifier()"
      ]
     },
     "execution_count": 21,
     "metadata": {},
     "output_type": "execute_result"
    }
   ],
   "source": [
    "dtree.fit(X_train,y_train)"
   ]
  },
  {
   "cell_type": "code",
   "execution_count": 24,
   "id": "6c2a7a63",
   "metadata": {},
   "outputs": [
    {
     "name": "stdout",
     "output_type": "stream",
     "text": [
      "              precision    recall  f1-score   support\n",
      "\n",
      "        fake       0.84      0.86      0.85      9497\n",
      "        real       0.86      0.85      0.85      9777\n",
      "\n",
      "    accuracy                           0.85     19274\n",
      "   macro avg       0.85      0.85      0.85     19274\n",
      "weighted avg       0.85      0.85      0.85     19274\n",
      "\n"
     ]
    }
   ],
   "source": [
    "predictions = dtree.predict(X_test)\n",
    "from sklearn.metrics import classification_report,confusion_matrix, accuracy_score\n",
    "print(classification_report(y_test,predictions))"
   ]
  },
  {
   "cell_type": "markdown",
   "id": "55c11dc4",
   "metadata": {},
   "source": [
    "## Q4.2: The second machine model\n",
    "- Print the model's name.\n",
    "- Print the model's accuracy.\n",
    "- Print the model's confusion matrix."
   ]
  },
  {
   "cell_type": "code",
   "execution_count": 25,
   "id": "b37a0953",
   "metadata": {},
   "outputs": [
    {
     "name": "stdout",
     "output_type": "stream",
     "text": [
      "0.8507834388295112\n"
     ]
    }
   ],
   "source": [
    "print(accuracy_score(y_test,predictions))"
   ]
  },
  {
   "cell_type": "markdown",
   "id": "311f9f19",
   "metadata": {},
   "source": [
    "## Q4.3: The third machine model\n",
    "- Print the model's name.\n",
    "- Print the model's accuracy.\n",
    "- Print the model's confusion matrix."
   ]
  },
  {
   "cell_type": "code",
   "execution_count": 26,
   "id": "f73c0c18",
   "metadata": {},
   "outputs": [
    {
     "name": "stdout",
     "output_type": "stream",
     "text": [
      "[[8128 1369]\n",
      " [1507 8270]]\n"
     ]
    }
   ],
   "source": [
    "print(confusion_matrix(y_test,predictions))"
   ]
  },
  {
   "cell_type": "code",
   "execution_count": null,
   "id": "c4cc1dad",
   "metadata": {},
   "outputs": [],
   "source": []
  }
 ],
 "metadata": {
  "kernelspec": {
   "display_name": "Python 3 (ipykernel)",
   "language": "python",
   "name": "python3"
  },
  "language_info": {
   "codemirror_mode": {
    "name": "ipython",
    "version": 3
   },
   "file_extension": ".py",
   "mimetype": "text/x-python",
   "name": "python",
   "nbconvert_exporter": "python",
   "pygments_lexer": "ipython3",
   "version": "3.9.13"
  }
 },
 "nbformat": 4,
 "nbformat_minor": 5
}
